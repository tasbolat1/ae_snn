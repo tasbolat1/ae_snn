{
 "cells": [
  {
   "cell_type": "code",
   "execution_count": 1,
   "metadata": {},
   "outputs": [],
   "source": [
    "from pathlib import Path\n",
    "import logging\n",
    "import argparse\n",
    "import pickle\n",
    "\n",
    "import torch\n",
    "from torch.utils.data import DataLoader\n",
    "from torch.utils.tensorboard import SummaryWriter\n",
    "import slayerSNN as snn\n",
    "from dataset import ViTacDataset"
   ]
  },
  {
   "cell_type": "code",
   "execution_count": 29,
   "metadata": {},
   "outputs": [],
   "source": [
    "logging.basicConfig(level=logging.INFO, format=\"%(levelname)s %(message)s\")\n",
    "log = logging.getLogger()"
   ]
  },
  {
   "cell_type": "code",
   "execution_count": 27,
   "metadata": {},
   "outputs": [],
   "source": [
    "params = snn.params('network_ae.yml')\n",
    "writer = SummaryWriter(\".\")"
   ]
  },
  {
   "cell_type": "code",
   "execution_count": 3,
   "metadata": {},
   "outputs": [],
   "source": [
    "# implement one layer\n",
    "class OneLayerMLP(torch.nn.Module):\n",
    "    def __init__(self, params, input_size,output_size):\n",
    "        super(OneLayerMLP, self).__init__()\n",
    "        self.slayer = snn.layer(params[\"neuron\"], params[\"simulation\"])\n",
    "        self.fc = self.slayer.dense(input_size, output_size)\n",
    "\n",
    "    def forward(self, spike_input):\n",
    "        spike_output = self.slayer.spike(self.slayer.psp(self.fc(spike_input)))\n",
    "        return spike_output\n",
    "\n",
    "class OneLayerAE(torch.nn.Module):\n",
    "    def __init__(self, params, hidden_size):\n",
    "        super(OneLayerAE, self).__init__()\n",
    "        self.encoder = OneLayerMLP(params, 156, hidden_size)\n",
    "        self.decoder = OneLayerMLP(params, hidden_size, 156)\n",
    "\n",
    "    def forward(self, spike_input):\n",
    "        encoded_spike = self.encoder(spike_input)\n",
    "        spike_output = self.decoder(encoded_spike)\n",
    "        return spike_output, encoded_spike "
   ]
  },
  {
   "cell_type": "code",
   "execution_count": 4,
   "metadata": {},
   "outputs": [],
   "source": [
    "class FLAGS():\n",
    "    data_dir = \"/home/jethro/aug13_full\"\n",
    "    batch_size=8\n",
    "    sample_file=1\n",
    "    lr = 0.01\n",
    "    hidden_size = 32\n",
    "    epochs=500\n",
    "    checkpoint_dir = \".\""
   ]
  },
  {
   "cell_type": "code",
   "execution_count": 5,
   "metadata": {},
   "outputs": [],
   "source": [
    "args = FLAGS()"
   ]
  },
  {
   "cell_type": "code",
   "execution_count": 6,
   "metadata": {},
   "outputs": [],
   "source": [
    "device = torch.device(\"cuda\")\n",
    "net = OneLayerAE(params, args.hidden_size).to(device)"
   ]
  },
  {
   "cell_type": "code",
   "execution_count": 7,
   "metadata": {},
   "outputs": [],
   "source": [
    "error = snn.loss(params).to(device)\n",
    "#criteria = error.spikeTime()\n",
    "optimizer = torch.optim.RMSprop(net.parameters(), lr=args.lr, weight_decay=0.5)"
   ]
  },
  {
   "cell_type": "code",
   "execution_count": 8,
   "metadata": {},
   "outputs": [],
   "source": [
    "train_dataset = ViTacDataset(\n",
    "    path=args.data_dir,\n",
    "    sample_file=f\"train_80_20_{args.sample_file}.txt\",\n",
    "    output_size=20,\n",
    "    spiking=True,\n",
    "    mode='tact',\n",
    ")\n",
    "train_loader = DataLoader(\n",
    "    dataset=train_dataset,\n",
    "    batch_size=args.batch_size,\n",
    "    shuffle=True,\n",
    "    num_workers=8,\n",
    ")\n",
    "test_dataset = ViTacDataset(\n",
    "    path=args.data_dir,\n",
    "    sample_file=f\"test_80_20_{args.sample_file}.txt\",\n",
    "    output_size=20,\n",
    "    spiking=True,\n",
    "    mode='tact',\n",
    ")\n",
    "test_loader = DataLoader(\n",
    "    dataset=test_dataset,\n",
    "    batch_size=args.batch_size,\n",
    "    shuffle=False,\n",
    "    num_workers=8,\n",
    ")"
   ]
  },
  {
   "cell_type": "code",
   "execution_count": 19,
   "metadata": {},
   "outputs": [],
   "source": [
    "a,b,c = train_dataset[0]"
   ]
  },
  {
   "cell_type": "code",
   "execution_count": 20,
   "metadata": {},
   "outputs": [
    {
     "data": {
      "text/plain": [
       "(torch.Size([156, 1, 1, 325]), torch.Size([20, 1, 1, 1]), 0)"
      ]
     },
     "execution_count": 20,
     "metadata": {},
     "output_type": "execute_result"
    }
   ],
   "source": [
    "a.shape, b.shape, c"
   ]
  },
  {
   "cell_type": "code",
   "execution_count": 25,
   "metadata": {},
   "outputs": [],
   "source": [
    "def _train():\n",
    "    correct = 0\n",
    "    num_samples = 0\n",
    "    net.train()\n",
    "    for data, target, label in train_loader:\n",
    "        data = data.to(device)\n",
    "        target = target.to(device)\n",
    "        output, _ = net.forward(data)\n",
    "        num_samples += len(label)\n",
    "        spike_loss = error.spikeTime(output, data)\n",
    "\n",
    "        optimizer.zero_grad()\n",
    "        spike_loss.backward()\n",
    "        optimizer.step()\n",
    "\n",
    "    writer.add_scalar(\"loss/train\", spike_loss / len(train_loader), epoch)\n",
    "\n",
    "def _test():\n",
    "    correct = 0\n",
    "    num_samples = 0\n",
    "    net.eval()\n",
    "    with torch.no_grad():\n",
    "        for data, target, label in test_loader:\n",
    "            data = data.to(device)\n",
    "            target = target.to(device)\n",
    "            output, _ = net.forward(data)\n",
    "            num_samples += len(label)\n",
    "            spike_loss = error.spikeTime(output, data)  # numSpikes\n",
    "\n",
    "        writer.add_scalar(\"loss/test\", spike_loss / len(test_loader), epoch)\n",
    "\n",
    "\n",
    "def _save_model(epoch):\n",
    "    log.info(f\"Writing model at epoch {epoch}...\")\n",
    "    checkpoint_path = Path(args.checkpoint_dir) / f\"weights_{epoch:03d}.pt\"\n",
    "    model_path = Path(args.checkpoint_dir) / f\"model_{epoch:03d}.pt\"\n",
    "    torch.save(net.state_dict(), checkpoint_path)\n",
    "    torch.save(net, model_path)"
   ]
  },
  {
   "cell_type": "code",
   "execution_count": 28,
   "metadata": {},
   "outputs": [
    {
     "ename": "NameError",
     "evalue": "name 'log' is not defined",
     "output_type": "error",
     "traceback": [
      "\u001b[0;31m---------------------------------------------------------------------------\u001b[0m",
      "\u001b[0;31mNameError\u001b[0m                                 Traceback (most recent call last)",
      "\u001b[0;32m<ipython-input-28-de34a32a1c63>\u001b[0m in \u001b[0;36m<module>\u001b[0;34m\u001b[0m\n\u001b[1;32m      4\u001b[0m         \u001b[0m_test\u001b[0m\u001b[0;34m(\u001b[0m\u001b[0;34m)\u001b[0m\u001b[0;34m\u001b[0m\u001b[0;34m\u001b[0m\u001b[0m\n\u001b[1;32m      5\u001b[0m     \u001b[0;32mif\u001b[0m \u001b[0mepoch\u001b[0m \u001b[0;34m%\u001b[0m \u001b[0;36m100\u001b[0m \u001b[0;34m==\u001b[0m \u001b[0;36m0\u001b[0m\u001b[0;34m:\u001b[0m\u001b[0;34m\u001b[0m\u001b[0;34m\u001b[0m\u001b[0m\n\u001b[0;32m----> 6\u001b[0;31m         \u001b[0m_save_model\u001b[0m\u001b[0;34m(\u001b[0m\u001b[0mepoch\u001b[0m\u001b[0;34m)\u001b[0m\u001b[0;34m\u001b[0m\u001b[0;34m\u001b[0m\u001b[0m\n\u001b[0m",
      "\u001b[0;32m<ipython-input-25-f57f0f017e21>\u001b[0m in \u001b[0;36m_save_model\u001b[0;34m(epoch)\u001b[0m\n\u001b[1;32m     32\u001b[0m \u001b[0;34m\u001b[0m\u001b[0m\n\u001b[1;32m     33\u001b[0m \u001b[0;32mdef\u001b[0m \u001b[0m_save_model\u001b[0m\u001b[0;34m(\u001b[0m\u001b[0mepoch\u001b[0m\u001b[0;34m)\u001b[0m\u001b[0;34m:\u001b[0m\u001b[0;34m\u001b[0m\u001b[0;34m\u001b[0m\u001b[0m\n\u001b[0;32m---> 34\u001b[0;31m     \u001b[0mlog\u001b[0m\u001b[0;34m.\u001b[0m\u001b[0minfo\u001b[0m\u001b[0;34m(\u001b[0m\u001b[0;34mf\"Writing model at epoch {epoch}...\"\u001b[0m\u001b[0;34m)\u001b[0m\u001b[0;34m\u001b[0m\u001b[0;34m\u001b[0m\u001b[0m\n\u001b[0m\u001b[1;32m     35\u001b[0m     \u001b[0mcheckpoint_path\u001b[0m \u001b[0;34m=\u001b[0m \u001b[0mPath\u001b[0m\u001b[0;34m(\u001b[0m\u001b[0margs\u001b[0m\u001b[0;34m.\u001b[0m\u001b[0mcheckpoint_dir\u001b[0m\u001b[0;34m)\u001b[0m \u001b[0;34m/\u001b[0m \u001b[0;34mf\"weights_{epoch:03d}.pt\"\u001b[0m\u001b[0;34m\u001b[0m\u001b[0;34m\u001b[0m\u001b[0m\n\u001b[1;32m     36\u001b[0m     \u001b[0mmodel_path\u001b[0m \u001b[0;34m=\u001b[0m \u001b[0mPath\u001b[0m\u001b[0;34m(\u001b[0m\u001b[0margs\u001b[0m\u001b[0;34m.\u001b[0m\u001b[0mcheckpoint_dir\u001b[0m\u001b[0;34m)\u001b[0m \u001b[0;34m/\u001b[0m \u001b[0;34mf\"model_{epoch:03d}.pt\"\u001b[0m\u001b[0;34m\u001b[0m\u001b[0;34m\u001b[0m\u001b[0m\n",
      "\u001b[0;31mNameError\u001b[0m: name 'log' is not defined"
     ]
    }
   ],
   "source": [
    "for epoch in range(1, args.epochs + 1):\n",
    "    _train()\n",
    "    if epoch % 10 == 0:\n",
    "        _test()\n",
    "    if epoch % 100 == 0:\n",
    "        _save_model(epoch)"
   ]
  },
  {
   "cell_type": "code",
   "execution_count": null,
   "metadata": {},
   "outputs": [],
   "source": [
    "with open(\"args.pkl\", \"wb\") as f:\n",
    "    pickle.dump(args, f)"
   ]
  },
  {
   "cell_type": "code",
   "execution_count": null,
   "metadata": {},
   "outputs": [],
   "source": []
  }
 ],
 "metadata": {
  "kernelspec": {
   "display_name": "Python 3",
   "language": "python",
   "name": "python3"
  },
  "language_info": {
   "codemirror_mode": {
    "name": "ipython",
    "version": 3
   },
   "file_extension": ".py",
   "mimetype": "text/x-python",
   "name": "python",
   "nbconvert_exporter": "python",
   "pygments_lexer": "ipython3",
   "version": "3.8.5"
  }
 },
 "nbformat": 4,
 "nbformat_minor": 4
}
